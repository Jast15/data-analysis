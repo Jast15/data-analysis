{
  "cells": [
    {
      "cell_type": "markdown",
      "metadata": {
        "id": "view-in-github",
        "colab_type": "text"
      },
      "source": [
        "<a href=\"https://colab.research.google.com/github/Jast15/data-analysis/blob/main/%D0%A1%D0%B0%D0%BC%D0%BE%D1%81%D1%82%D0%BE%D1%8F%D1%82%D0%B5%D0%BB%D1%8C%D0%BD%D1%8B%D0%B9_%D0%BF%D1%80%D0%BE%D0%B5%D0%BA%D1%82.ipynb\" target=\"_parent\"><img src=\"https://colab.research.google.com/assets/colab-badge.svg\" alt=\"Open In Colab\"/></a>"
      ]
    },
    {
      "cell_type": "markdown",
      "metadata": {
        "id": "UR17X6P8xYsZ"
      },
      "source": [
        "# Добро пожаловать в самостоятельный проект\n",
        "\n",
        "Самостоятельный проект — это практическая проверка знаний, приобретённых вами на вводном курсе. Каждый раздел посвящён отдельной стадии анализа данных с экскурсом в основы Python.\n",
        "\n",
        "Проект выполняется в пять этапов:\n",
        "\n",
        "•\tПостановка задачи\n",
        "\n",
        "•\tПолучение данных\n",
        "\n",
        "•\tПредобработка данных\n",
        "\n",
        "•\tАнализ данных\n",
        "\n",
        "•\tОформление результатов\n",
        "\n",
        "Для каждой части описаны шаги выполнения c теоретическим приложением. В Jupyter Notebook эти шаги связаны между собой выводами и результатами.\n",
        "\n",
        "**Исследование: Музыка больших городов**\n",
        "\n",
        "Яндекс.Музыка — это крупный продукт с огромным запасом данных для исследований. Команды таких сервисов для поддержания интереса к продукту и привлечения новых пользователей часто проводят исследования про пользователей. Чтобы удержать клиентов и привлечь новых, сделать бренд более узнаваемым, команда сервиса проводит исследования аудитории, и публикует интересные результаты. Например, интересно сравнить тексты, сочинённые нейросетью, с произведениями настоящих рэперов.\n",
        "Есть исследование, которое напоминает наше: о музыкальных предпочтениях в разных городах России.\n",
        "Итак, вопрос вам: как музыка, которая звучит по дороге на работу в понедельник утром, отличается от той, что играет в среду или в конце рабочей недели? Возьмите данные для Москвы и Петербурга. Сравните, что и в каком режиме слушают их жители.\n",
        "\n",
        "План исследования\n",
        "\n",
        "1.\tПолучение данных. Прочитайте данные, ознакомьтесь с ними.\n",
        "\n",
        "2.\tПредобработка данных. Избавьтесь от дубликатов, проблем с названиями столбцов и пропусками.\n",
        "\n",
        "3.\tАнализ данных. Ответьте на основные вопросы исследования, подготовьте отчётную таблицу или опишите полученный результат.\n",
        "\n",
        "4.\tПодведение итогов. Просмотрите выполненную работу и сформулируйте выводы.\n"
      ]
    },
    {
      "cell_type": "markdown",
      "metadata": {
        "id": "0wEOBL1TxYsb"
      },
      "source": [
        "# Этап 1. Получение данных\n",
        "\n",
        "Изучим данные, предоставленные сервисом для проекта.\n",
        "\n",
        "Прочитайте файл music_project.csv и сохраните его в переменной df.\n",
        "\n",
        "Получите  первых 10 строк таблицы, а также общую информацию о данных таблицы df."
      ]
    },
    {
      "cell_type": "code",
      "execution_count": null,
      "metadata": {
        "colab": {
          "base_uri": "https://localhost:8080/"
        },
        "id": "AWvW3ZWtxYsb",
        "outputId": "2ae3a42b-0b3e-4ea1-cae5-017a3e1ccf71"
      },
      "outputs": [
        {
          "output_type": "stream",
          "name": "stdout",
          "text": [
            "Первые 10 строк таблицы:\n",
            "     userID                        Track            artist   genre  \\\n",
            "0  FFB692EC            Kamigata To Boots  The Mass Missile    rock   \n",
            "1  55204538  Delayed Because of Accident  Andreas Rönnberg    rock   \n",
            "2    20EC38            Funiculì funiculà       Mario Lanza     pop   \n",
            "3  A3DD03C9        Dragons in the Sunset        Fire + Ice    folk   \n",
            "4  E2DC1FAE                  Soul People        Space Echo   dance   \n",
            "5  842029A1                    Преданная         IMPERVTOR  rusrap   \n",
            "6  4CB90AA5                         True      Roman Messer   dance   \n",
            "7  F03E1C1F             Feeling This Way   Polina Griffith   dance   \n",
            "8  8FA1D3BE     И вновь продолжается бой               NaN  ruspop   \n",
            "9  E772D5C0                    Pessimist               NaN   dance   \n",
            "\n",
            "             City        time        Day  \n",
            "0  Saint-Petersburg  20:28:33  Wednesday  \n",
            "1            Moscow  14:07:09     Friday  \n",
            "2  Saint-Petersburg  20:58:07  Wednesday  \n",
            "3  Saint-Petersburg  08:37:09     Monday  \n",
            "4            Moscow  08:34:34     Monday  \n",
            "5  Saint-Petersburg  13:09:41     Friday  \n",
            "6            Moscow  13:00:07  Wednesday  \n",
            "7            Moscow  20:47:49  Wednesday  \n",
            "8            Moscow  09:17:40     Friday  \n",
            "9  Saint-Petersburg  21:20:49  Wednesday  \n",
            "\n",
            "Общая информация о данных:\n",
            "<class 'pandas.core.frame.DataFrame'>\n",
            "RangeIndex: 65079 entries, 0 to 65078\n",
            "Data columns (total 7 columns):\n",
            " #   Column    Non-Null Count  Dtype \n",
            "---  ------    --------------  ----- \n",
            " 0     userID  65079 non-null  object\n",
            " 1   Track     63848 non-null  object\n",
            " 2   artist    57876 non-null  object\n",
            " 3   genre     63881 non-null  object\n",
            " 4     City    65079 non-null  object\n",
            " 5   time      65079 non-null  object\n",
            " 6   Day       65079 non-null  object\n",
            "dtypes: object(7)\n",
            "memory usage: 3.5+ MB\n",
            "None\n"
          ]
        }
      ],
      "source": [
        "import pandas as pd\n",
        "# чтение файла с данными с сохранением в df\n",
        "df = pd.read_csv('yandex_music.csv')\n",
        "# получение первых 10 строк таблицы df\n",
        "first_10_rows = df.head(10)\n",
        "# получение общей информации о данных в таблице df\n",
        "\n",
        "print(\"Первые 10 строк таблицы:\")\n",
        "print(first_10_rows)\n",
        "print(\"\\nОбщая информация о данных:\")\n",
        "print(df.info())"
      ]
    },
    {
      "cell_type": "markdown",
      "metadata": {
        "id": "LoMjf_wDxYsc"
      },
      "source": [
        "Рассмотрим полученную информацию подробнее.\n",
        "Всего в таблице 7 столбцов, тип данных у каждого столбца - строка.\n",
        "Подробно разберём, какие в df столбцы и какую информацию они содержат:\n",
        "•\tuserID — идентификатор пользователя;\n",
        "•\tTrack — название трека;\n",
        "•\tartist — имя исполнителя;\n",
        "•\tgenre — название жанра;\n",
        "•\tCity — город, в котором происходило прослушивание;\n",
        "•\ttime — время, в которое пользователь слушал трек;\n",
        "•\tDay — день недели.\n",
        "Количество значений в столбцах различается. Это говорит о том, что в данных есть пропущенные значения.\n"
      ]
    },
    {
      "cell_type": "markdown",
      "metadata": {
        "id": "SOBE26JmxYsc"
      },
      "source": [
        "## Выводы:\n",
        "\n",
        "Каждая строка таблицы содержит информацию о композициях определённого жанра в определённом исполнении, которые пользователи слушали в одном из городов в определённое время и день недели. Две проблемы, которые нужно решать: пропуски и некачественные названия столбцов. Для проверки рабочих гипотез особенно ценны столбцы (*вставьте сюда названия столбцов, наиболее существенных, на ва взгляд*. Данные из столбца *название столбца*  позволят узнать самые популярные жанры."
      ]
    },
    {
      "cell_type": "markdown",
      "metadata": {
        "id": "wv4XSyw5xYsc"
      },
      "source": [
        "# Этап 2. Предобработка данных\n",
        "\n",
        "Исключим пропуски, переименуем столбцы, а также проверим данные на наличие дубликатов.\n",
        "\n",
        "Получаем перечень названий столбцов. Какая наблюдается проблема — кроме тех, что уже были названы ранее?\n"
      ]
    },
    {
      "cell_type": "code",
      "execution_count": null,
      "metadata": {
        "colab": {
          "base_uri": "https://localhost:8080/"
        },
        "id": "gCj-UO2mxYsc",
        "outputId": "3ed8ffde-4bfd-4dab-a0f9-33ad1fbbcf32"
      },
      "outputs": [
        {
          "output_type": "stream",
          "name": "stdout",
          "text": [
            "Перечень названий столбцов таблицы df:\n",
            "['  userID', 'Track', 'artist', 'genre', '  City  ', 'time', 'Day']\n"
          ]
        }
      ],
      "source": [
        "# перечень названий столбцов таблицы df\n",
        "column_names = df.columns.tolist()\n",
        "# Вывод результатов\n",
        "print(\"Перечень названий столбцов таблицы df:\")\n",
        "print(column_names)"
      ]
    },
    {
      "cell_type": "markdown",
      "metadata": {
        "id": "3GfYDC4CxYsc"
      },
      "source": [
        "В названиях столбцов есть пробелы, которые могут затруднять доступ к данным.\n",
        "\n",
        "Переименуем столбцы для удобства дальнейшей работы. Проверим результат.\n"
      ]
    },
    {
      "cell_type": "code",
      "execution_count": null,
      "metadata": {
        "colab": {
          "base_uri": "https://localhost:8080/"
        },
        "id": "a_Jvn1LGxYsd",
        "outputId": "82d0c459-9dc0-4d4a-c59f-3e99bdb0305e"
      },
      "outputs": [
        {
          "output_type": "stream",
          "name": "stdout",
          "text": [
            "Перечень названий столбцов после переименования:\n",
            "['userID', 'Track', 'artist', 'genre', 'City', 'time', 'Day']\n"
          ]
        }
      ],
      "source": [
        "# переименование столбцов\n",
        "df.columns = ['userID', 'Track', 'artist', 'genre', 'City', 'time', 'Day']\n",
        "# проверка результатов - перечень названий столбцов\n",
        "print(\"Перечень названий столбцов после переименования:\")\n",
        "print(df.columns.tolist())"
      ]
    },
    {
      "cell_type": "markdown",
      "metadata": {
        "id": "MwWiRETGxYsd"
      },
      "source": [
        "Проверим данные на наличие пропусков вызовом набора методов для суммирования пропущенных значений."
      ]
    },
    {
      "cell_type": "code",
      "execution_count": null,
      "metadata": {
        "colab": {
          "base_uri": "https://localhost:8080/"
        },
        "id": "HdAqNSZRxYsd",
        "outputId": "e89f064c-cf6d-47fb-f07c-e45faf024595"
      },
      "outputs": [
        {
          "output_type": "stream",
          "name": "stdout",
          "text": [
            "Суммарное количество пропусков в таблице df: 9632\n"
          ]
        }
      ],
      "source": [
        "# суммарное количество пропусков, выявленных методом isnull() в таблице df\n",
        "total_missing = df.isnull().sum().sum()\n",
        "\n",
        "# Вывод результата\n",
        "print(f\"Суммарное количество пропусков в таблице df: {total_missing}\")"
      ]
    },
    {
      "cell_type": "markdown",
      "metadata": {
        "id": "7om2e0bWxYsd"
      },
      "source": [
        "Пустые значения свидетельствуют, что для некоторых треков доступна не вся информация. Причины могут быть разные: скажем, не назван конкретный исполнитель народной песни. Хуже, если проблемы с записью данных. Каждый отдельный случай необходимо разобрать и выявить причину.\n",
        "\n",
        "Заменяем пропущенные значения в столбцах с названием трека и исполнителя на строку 'unknown'. После этой операции нужно убедиться, что таблица больше не содержит пропусков.\n"
      ]
    },
    {
      "cell_type": "code",
      "execution_count": null,
      "metadata": {
        "colab": {
          "base_uri": "https://localhost:8080/"
        },
        "id": "yD6fnC6hxYsd",
        "outputId": "073f0dc6-ab82-4472-fd5c-db91e73403b0"
      },
      "outputs": [
        {
          "output_type": "stream",
          "name": "stdout",
          "text": [
            "Суммарное количество пропусков в столбцах 'Track' и 'artist' после замены:\n",
            "Track     0\n",
            "artist    0\n",
            "dtype: int64\n"
          ]
        }
      ],
      "source": [
        "# Замена пропущенных значений в столбце 'Track' на строку 'unknown'\n",
        "df['Track'] = df['Track'].fillna('unknown')\n",
        "\n",
        "# Замена пропущенных значений в столбце 'artist' на строку 'unknown'\n",
        "df['artist'] = df['artist'].fillna('unknown')\n",
        "\n",
        "# Проверка на наличие пропусков после замены\n",
        "total_missing_after = df[['Track', 'artist']].isnull().sum()\n",
        "\n",
        "# Вывод результата\n",
        "print(\"Суммарное количество пропусков в столбцах 'Track' и 'artist' после замены:\")\n",
        "print(total_missing_after)"
      ]
    },
    {
      "cell_type": "code",
      "execution_count": null,
      "metadata": {
        "colab": {
          "base_uri": "https://localhost:8080/"
        },
        "id": "yyPyNFGNxYsd",
        "outputId": "4645a850-6171-490f-9052-2e85c195168d"
      },
      "outputs": [
        {
          "output_type": "stream",
          "name": "stdout",
          "text": [
            "Суммарное количество пропусков в таблице df: 1198\n"
          ]
        }
      ],
      "source": [
        "# проверка: вычисление суммарного количества пропусков, выявленных в таблице df\n",
        "total_missing = df.isnull().sum().sum()\n",
        "\n",
        "# Вывод результата\n",
        "print(f\"Суммарное количество пропусков в таблице df: {total_missing}\")"
      ]
    },
    {
      "cell_type": "markdown",
      "metadata": {
        "id": "JBDLfY-OxYse"
      },
      "source": [
        "Удаляем в столбце с жанрами пустые значения; убеждаемся, что их больше не осталось."
      ]
    },
    {
      "cell_type": "code",
      "execution_count": null,
      "metadata": {
        "colab": {
          "base_uri": "https://localhost:8080/"
        },
        "id": "YWw-VN3txYse",
        "outputId": "365f3492-2ccb-4aab-c2ae-84463460d112"
      },
      "outputs": [
        {
          "output_type": "stream",
          "name": "stdout",
          "text": [
            "Суммарное количество пропусков в столбце 'genre' после удаления: 0\n"
          ]
        }
      ],
      "source": [
        "# удаление пропущенных значений в столбце 'genre_name'\n",
        "df = df[df['genre'].notna()]\n",
        "# проверка\n",
        "total_missing_genre_after = df['genre'].isnull().sum()\n",
        "\n",
        "# Вывод результата\n",
        "print(f\"Суммарное количество пропусков в столбце 'genre' после удаления: {total_missing_genre_after}\")"
      ]
    },
    {
      "cell_type": "markdown",
      "metadata": {
        "id": "UIGSZbYtxYse"
      },
      "source": [
        "Необходимо установить наличие дубликатов. Если найдутся, удаляем, и проверяем, все ли удалились."
      ]
    },
    {
      "cell_type": "code",
      "execution_count": null,
      "metadata": {
        "colab": {
          "base_uri": "https://localhost:8080/"
        },
        "id": "Ng0s2qiuxYse",
        "outputId": "d9fd5485-c97c-4cf3-a4b1-f1fc035ad971"
      },
      "outputs": [
        {
          "output_type": "stream",
          "name": "stdout",
          "text": [
            "Суммарное количество дубликатов в таблице df: 0\n",
            "Количество дубликатов после удаления: 0\n"
          ]
        }
      ],
      "source": [
        "# получение суммарного количества дубликатов в таблице df\n",
        "duplicate_count = df.duplicated().sum()\n",
        "print(f\"Суммарное количество дубликатов в таблице df: {duplicate_count}\")\n",
        "# удаление всех дубликатов из таблицы df\n",
        "df = df.drop_duplicates()\n",
        "# <проверка на отсутствие>\n",
        "duplicate_count_after = df.duplicated().sum()\n",
        "print(f\"Количество дубликатов после удаления: {duplicate_count_after}\")\n"
      ]
    },
    {
      "cell_type": "markdown",
      "metadata": {
        "id": "Y_rnhzwcxYse"
      },
      "source": [
        "Дубликаты могли появиться вследствие сбоя в записи данных. Стоит обратить внимание и разобраться с причинами появления такого «информационного мусора».\n",
        "\n",
        "Сохраняем список уникальных значений столбца с жанрами в переменной genres_list.\n",
        "\n",
        "Объявим функцию find_genre() для поиска неявных дубликатов в столбце с жанрами. Например, когда название одного и того же жанра написано разными словами.\n"
      ]
    },
    {
      "cell_type": "code",
      "execution_count": null,
      "metadata": {
        "id": "zeKbXVyBxYse",
        "colab": {
          "base_uri": "https://localhost:8080/"
        },
        "outputId": "28304c7a-e089-4f1f-8f09-e90a77cdada3"
      },
      "outputs": [
        {
          "output_type": "stream",
          "name": "stdout",
          "text": [
            "['rock' 'pop' 'folk' 'dance' 'rusrap' 'ruspop' 'world' 'electronic'\n",
            " 'alternative' 'children' 'rnb' 'hip' 'jazz' 'postrock' 'latin'\n",
            " 'classical' 'metal' 'reggae' 'tatar' 'blues' 'instrumental' 'rusrock'\n",
            " 'dnb' 'türk' 'post' 'country' 'psychedelic' 'conjazz' 'indie'\n",
            " 'posthardcore' 'local' 'avantgarde' 'punk' 'videogame' 'techno' 'house'\n",
            " 'christmas' 'melodic' 'caucasian' 'reggaeton' 'soundtrack' 'singer' 'ska'\n",
            " 'shanson' 'ambient' 'film' 'western' 'rap' 'beats' \"hard'n'heavy\"\n",
            " 'progmetal' 'minimal' 'contemporary' 'new' 'soul' 'holiday' 'german'\n",
            " 'tropical' 'fairytail' 'spiritual' 'urban' 'gospel' 'nujazz' 'folkmetal'\n",
            " 'trance' 'miscellaneous' 'anime' 'hardcore' 'progressive' 'chanson'\n",
            " 'numetal' 'vocal' 'estrada' 'russian' 'classicmetal' 'dubstep' 'club'\n",
            " 'deep' 'southern' 'black' 'folkrock' 'fitness' 'french' 'disco'\n",
            " 'religious' 'hiphop' 'drum' 'extrememetal' 'türkçe' 'experimental' 'easy'\n",
            " 'metalcore' 'modern' 'argentinetango' 'old' 'breaks' 'eurofolk'\n",
            " 'stonerrock' 'industrial' 'funk' 'jpop' 'middle' 'variété' 'other'\n",
            " 'adult' 'christian' 'gothic' 'international' 'muslim' 'relax' 'schlager'\n",
            " 'caribbean' 'ukrrock' 'nu' 'breakbeat' 'comedy' 'chill' 'newage'\n",
            " 'specialty' 'uzbek' 'k-pop' 'balkan' 'chinese' 'meditative' 'dub' 'power'\n",
            " 'death' 'grime' 'arabesk' 'romance' 'flamenco' 'leftfield' 'european'\n",
            " 'tech' 'newwave' 'dancehall' 'mpb' 'piano' 'top' 'bigroom' 'opera'\n",
            " 'celtic' 'tradjazz' 'acoustic' 'epicmetal' 'hip-hop' 'historisch'\n",
            " 'downbeat' 'downtempo' 'africa' 'audiobook' 'jewish' 'sängerportrait'\n",
            " 'deutschrock' 'eastern' 'action' 'future' 'electropop' 'folklore'\n",
            " 'bollywood' 'marschmusik' 'rnr' 'karaoke' 'indian' 'rancheras'\n",
            " 'электроника' 'afrikaans' 'tango' 'rhythm' 'sound' 'deutschspr' 'trip'\n",
            " 'lovers' 'choral' 'dancepop' 'podcasts' 'retro' 'smooth' 'mexican'\n",
            " 'brazilian' 'ïîï' 'mood' 'surf' 'author' 'gangsta' 'triphop'\n",
            " 'inspirational' 'idm' 'ethnic' 'bluegrass' 'broadway' 'animated'\n",
            " 'americana' 'karadeniz' 'rockabilly' 'colombian' 'self' 'hop' 'synthrock'\n",
            " 'sertanejo' 'japanese' 'canzone' 'swing' 'lounge' 'sport' 'korean'\n",
            " 'ragga' 'traditional' 'gitarre' 'frankreich' 'alternativepunk' 'emo'\n",
            " 'laiko' 'cantopop' 'glitch' 'documentary' 'rockalternative' 'thrash'\n",
            " 'hymn' 'oceania' 'rockother' 'popeurodance' 'dark' 'vi' 'grunge'\n",
            " 'hardstyle' 'samba' 'garage' 'soft' 'art' 'folktronica' 'entehno'\n",
            " 'mediterranean' 'chamber' 'cuban' 'taraftar' 'rockindie' 'gypsy'\n",
            " 'hardtechno' 'shoegazing' 'skarock' 'bossa' 'salsa' 'latino' 'worldbeat'\n",
            " 'malaysian' 'baile' 'ghazal' 'loungeelectronic' 'arabic' 'popelectronic'\n",
            " 'acid' 'kayokyoku' 'neoklassik' 'tribal' 'tanzorchester' 'native'\n",
            " 'independent' 'cantautori' 'handsup' 'poprussian' 'punjabi' 'synthpop'\n",
            " 'rave' 'französisch' 'quebecois' 'speech' 'soulful' 'teen' 'jam' 'ram'\n",
            " 'horror' 'scenic' 'orchestral' 'neue' 'roots' 'slow' 'jungle' 'indipop'\n",
            " 'axé' 'fado' 'showtunes' 'arena' 'irish' 'mandopop' 'forró' 'popdance'\n",
            " 'dirty' 'regional']\n"
          ]
        }
      ],
      "source": [
        "\n",
        "# Получение уникальных значений из столбца 'genre'\n",
        "genres_list = df['genre'].unique()\n",
        "\n",
        "# Вывод списка уникальных жанров\n",
        "print(genres_list)"
      ]
    },
    {
      "cell_type": "code",
      "execution_count": null,
      "metadata": {
        "id": "o_g7sl1AxYse"
      },
      "outputs": [],
      "source": [
        "# <создание функции find_genre()>\n",
        "# функция принимает как параметр строку с названием искомого жанра\n",
        "# в теле объявляется переменная-счётчик, ей присваивается значение 0,\n",
        "# затем цикл for проходит по списку уникальных значений\n",
        "# если очередной элемент списка равен параметру функции,\n",
        "# то значение счётчика увеличивается на 1\n",
        "# по окончании работы цикла функция возвращает значение счётчика\n",
        "def find_genre(genre: str):\n",
        "    genre_count = 0\n",
        "    for name in genres_list:\n",
        "        if name == genre:\n",
        "            genre_count += 1\n",
        "    return genre_count"
      ]
    },
    {
      "cell_type": "markdown",
      "metadata": {
        "id": "OsWz-R8ZxYse"
      },
      "source": [
        "Вызов функции find_genre() для поиска различных вариантов названия жанра хип-хоп в таблице.\n",
        "\n",
        "Правильное название — hiphop. Поищем другие варианты:\n",
        "\n",
        "•\thip\n",
        "\n",
        "•\thop\n",
        "\n",
        "•\thip-hop\n"
      ]
    },
    {
      "cell_type": "code",
      "execution_count": null,
      "metadata": {
        "colab": {
          "base_uri": "https://localhost:8080/"
        },
        "id": "oHteO45NxYse",
        "outputId": "354c34f1-e5cc-4ac9-8e8c-3fa54b4cee8a"
      },
      "outputs": [
        {
          "output_type": "stream",
          "name": "stdout",
          "text": [
            "1\n"
          ]
        }
      ],
      "source": [
        "# <вызовом функции find_genre() проверяется наличие варианта 'hip'>\n",
        "print(find_genre('hip'))"
      ]
    },
    {
      "cell_type": "code",
      "execution_count": null,
      "metadata": {
        "colab": {
          "base_uri": "https://localhost:8080/"
        },
        "id": "LveuKik-xYse",
        "outputId": "ecfe853b-0ec9-4c47-8ccf-e01ad4cd3944"
      },
      "outputs": [
        {
          "output_type": "stream",
          "name": "stdout",
          "text": [
            "1\n"
          ]
        }
      ],
      "source": [
        "# <проверяется наличие варианта 'hop'>\n",
        "print(find_genre('hop'))"
      ]
    },
    {
      "cell_type": "code",
      "execution_count": null,
      "metadata": {
        "colab": {
          "base_uri": "https://localhost:8080/"
        },
        "id": "toXtC2rrxYsf",
        "outputId": "6fab201e-6e88-4664-e914-3a8f1456fb82"
      },
      "outputs": [
        {
          "output_type": "stream",
          "name": "stdout",
          "text": [
            "1\n"
          ]
        }
      ],
      "source": [
        "# <проверяется наличие варианта 'hip-hop'>\n",
        "print(find_genre('hip-hop'))"
      ]
    },
    {
      "cell_type": "markdown",
      "metadata": {
        "id": "VcugjuOyxYsf"
      },
      "source": [
        "Объявим функцию find_hip_hop(), которая заменяет неправильное название этого жанра в столбце 'genre_name' на 'hiphop' и проверяет успешность выполнения замены.\n",
        "\n",
        "Так исправляем все варианты написания, которые выявила проверка.\n"
      ]
    },
    {
      "cell_type": "code",
      "execution_count": null,
      "metadata": {
        "id": "7OGRpz0_xYsf"
      },
      "outputs": [],
      "source": [
        "# <создание функции find_hip_hop()>\n",
        "# функция принимает как параметры таблицу df и неверное название\n",
        "# к столбцу 'genre_name' применяется специальный метод,\n",
        "# который заменяет второй параметр на строку 'hiphop'\n",
        "# результат работы равен подсчитанному методом count() числу\n",
        "#значений столбца,\n",
        "# которые равны второму параметру\n",
        "# функция возвращает результат\n",
        "def find_hip_hop(df_func: pd.DataFrame, invalid_name: str):\n",
        "    df_func.replace({f'{invalid_name}': 'hiphop'}, inplace=True)\n",
        "    return df_func.get(f'{invalid_name}', 0)"
      ]
    },
    {
      "cell_type": "code",
      "execution_count": null,
      "metadata": {
        "id": "rul8TLGixYsf",
        "colab": {
          "base_uri": "https://localhost:8080/"
        },
        "outputId": "727e544e-89be-4f45-9141-a22c62423420"
      },
      "outputs": [
        {
          "output_type": "stream",
          "name": "stdout",
          "text": [
            "0\n"
          ]
        }
      ],
      "source": [
        "# <замена одного неверного варианта на hiphop вызовом функции find_hip_hop()>\n",
        "print(find_hip_hop(df, 'hip'))"
      ]
    },
    {
      "cell_type": "markdown",
      "metadata": {
        "id": "BHfMW496xYsf"
      },
      "source": [
        "Получаем общую информацию о данных. Убеждаемся, что чистка выполнена успешно."
      ]
    },
    {
      "cell_type": "code",
      "execution_count": null,
      "metadata": {
        "id": "EYN6Mi5LxYsf",
        "colab": {
          "base_uri": "https://localhost:8080/"
        },
        "outputId": "5c5086cf-93b0-4865-cfce-081d7ca9705a"
      },
      "outputs": [
        {
          "output_type": "stream",
          "name": "stdout",
          "text": [
            "<class 'pandas.core.frame.DataFrame'>\n",
            "Index: 60126 entries, 0 to 65078\n",
            "Data columns (total 7 columns):\n",
            " #   Column  Non-Null Count  Dtype          \n",
            "---  ------  --------------  -----          \n",
            " 0   userID  60126 non-null  object         \n",
            " 1   Track   60126 non-null  object         \n",
            " 2   artist  60126 non-null  object         \n",
            " 3   genre   60126 non-null  object         \n",
            " 4   City    60126 non-null  object         \n",
            " 5   time    60126 non-null  timedelta64[ns]\n",
            " 6   Day     60126 non-null  object         \n",
            "dtypes: object(6), timedelta64[ns](1)\n",
            "memory usage: 3.7+ MB\n"
          ]
        }
      ],
      "source": [
        "df.info()"
      ]
    },
    {
      "cell_type": "markdown",
      "metadata": {
        "id": "yv_FPMKMxYsf"
      },
      "source": [
        "## Вывод\n",
        "\n",
        "На этапе предобработки в данных обнаружились не только пропуски и проблемы с названиями столбцов, но и всяческие виды дубликатов. Их удаление позволит провести анализ точнее. Поскольку сведения о жанрах важно сохранить для анализа, не просто удаляем все пропущенные значения, но заполним пропущенные имена исполнителей и названия треков. Имена столбцов теперь корректны и удобны для дальнейшей работы.\n"
      ]
    },
    {
      "cell_type": "markdown",
      "metadata": {
        "id": "57Zwfeg9xYsf"
      },
      "source": [
        "# Действительно ли музыку в разных городах слушают по-разному?\n",
        "\n",
        "Была выдвинута гипотеза, что в Москве и Санкт-Петербурге пользователи слушают музыку по-разному. Проверяем это предположение по данным о трёх днях недели — понедельнике, среде и пятнице.\n",
        "\n",
        "Для каждого города устанавливаем количество прослушанных в эти дни композиций с известным жанром, и сравниваем результаты.\n",
        "Группируем данные по городу и вызовом метода count() подсчитываем композиции, для которых известен жанр.\n"
      ]
    },
    {
      "cell_type": "code",
      "execution_count": null,
      "metadata": {
        "id": "GJQhTcdDxYsf",
        "colab": {
          "base_uri": "https://localhost:8080/"
        },
        "outputId": "d6458b9f-5ad5-4ee4-aa3a-ec179a48dcbb"
      },
      "outputs": [
        {
          "output_type": "stream",
          "name": "stdout",
          "text": [
            "               City  genre\n",
            "0            Moscow  41892\n",
            "1  Saint-Petersburg  18234\n"
          ]
        }
      ],
      "source": [
        "# <группировка данных таблицы df по столбцу 'city' и подсчёт количества значений столбца 'genre_name'>\n",
        "city_genre_count = df.groupby('City')['genre'].count().reset_index()\n",
        "\n",
        "# Вывод результата\n",
        "print(city_genre_count)"
      ]
    },
    {
      "cell_type": "markdown",
      "metadata": {
        "id": "1nuJC9XMxYsg"
      },
      "source": [
        "В *(вставьте название города)* прослушиваний больше, чем в *(вставьте название города)*, но это не значит, что *(вставьте название города)* более активна. У Яндекс.Музыки в целом больше пользователей в Москве, поэтому величины сопоставимы.\n",
        "Сгруппируем данные по дню недели и подсчитаем прослушанные в понедельник, среду и пятницу композиции, для которых известен жанр.\n"
      ]
    },
    {
      "cell_type": "code",
      "execution_count": null,
      "metadata": {
        "id": "LqKx6V2NxYsg",
        "colab": {
          "base_uri": "https://localhost:8080/"
        },
        "outputId": "83f41e3b-46da-4b70-fad2-f214b8087152"
      },
      "outputs": [
        {
          "output_type": "stream",
          "name": "stdout",
          "text": [
            "         Day  genre\n",
            "0     Friday  21482\n",
            "1     Monday  20866\n",
            "2  Wednesday  17778\n"
          ]
        }
      ],
      "source": [
        "# <группировка данных по столбцу 'weekday' и подсчёт количества значений столбца 'genre_name'>\n",
        "weekday_genre_count = df.groupby('Day')['genre'].count().reset_index()\n",
        "\n",
        "# Вывод результата\n",
        "print(weekday_genre_count)"
      ]
    },
    {
      "cell_type": "markdown",
      "metadata": {
        "id": "t4kDFRN5xYsg"
      },
      "source": [
        "Понедельник и пятница — время для музыки; по средам пользователи немного больше вовлечены в работу.\n",
        "\n",
        "Создаём функцию number_tracks(), которая принимает как параметры таблицу, день недели и название города, а возвращает количество прослушанных композиций, для которых известен жанр. Проверяем количество прослушанных композиций для каждого города и понедельника, затем среды и пятницы.\n"
      ]
    },
    {
      "cell_type": "code",
      "execution_count": null,
      "metadata": {
        "id": "IdNKrgoCxYsg"
      },
      "outputs": [],
      "source": [
        "# <создание функции number_tracks()>\n",
        "# объявляется функция с тремя параметрами: df, day, city\n",
        "# в переменной track_list сохраняются те строки таблицы df, для которых\n",
        "# значение в столбце 'weekday' равно параметру day\n",
        "# и одновременно значение в столбце 'city' равно параметру city\n",
        "# в переменной track_list_count сохраняется число значений столбца 'genre_name',\n",
        "# рассчитанное методом count() для таблицы track_list\n",
        "# функция возвращает значение track_list_count\n",
        "def number_tracks(df, day, city):\n",
        "    track_list = df[(df['Day'] == day) & (df['City'] == city)]\n",
        "\n",
        "    # Подсчет количества значений в 'genre'\n",
        "    track_list_count = track_list['genre'].count()\n",
        "\n",
        "    # Возврат количества\n",
        "    return track_list_count"
      ]
    },
    {
      "cell_type": "code",
      "execution_count": null,
      "metadata": {
        "id": "EyTjENzHxYsg",
        "colab": {
          "base_uri": "https://localhost:8080/"
        },
        "outputId": "599c39dd-9e70-4339-8748-28f55ca818e8"
      },
      "outputs": [
        {
          "output_type": "execute_result",
          "data": {
            "text/plain": [
              "15347"
            ]
          },
          "metadata": {},
          "execution_count": 27
        }
      ],
      "source": [
        "# <список композиций для Москвы в понедельник>\n",
        "moscow = ['Moscow']\n",
        "moscow.append(number_tracks(df, 'Monday', 'Moscow'))\n",
        "number_tracks(df, 'Monday', 'Moscow')"
      ]
    },
    {
      "cell_type": "code",
      "execution_count": null,
      "metadata": {
        "id": "XSDgB1_VxYsh",
        "colab": {
          "base_uri": "https://localhost:8080/"
        },
        "outputId": "81579716-da52-4ec5-df94-40b42e581f7e"
      },
      "outputs": [
        {
          "output_type": "execute_result",
          "data": {
            "text/plain": [
              "5519"
            ]
          },
          "metadata": {},
          "execution_count": 28
        }
      ],
      "source": [
        "# <список композиций для Санкт-Петербурга в понедельник>\n",
        "piter =['Saint-Petersburg']\n",
        "piter.append(number_tracks(df, 'Monday', 'Saint-Petersburg'))\n",
        "number_tracks(df, 'Monday', 'Saint-Petersburg')"
      ]
    },
    {
      "cell_type": "code",
      "execution_count": null,
      "metadata": {
        "id": "25D3I27cxYsp",
        "colab": {
          "base_uri": "https://localhost:8080/"
        },
        "outputId": "22fc1836-d02e-4516-f765-f38e27e9b5fd"
      },
      "outputs": [
        {
          "output_type": "execute_result",
          "data": {
            "text/plain": [
              "10865"
            ]
          },
          "metadata": {},
          "execution_count": 29
        }
      ],
      "source": [
        "# <список композиций для Москвы в среду>\n",
        "moscow.append(number_tracks(df, 'Wednesday', 'Moscow'))\n",
        "number_tracks(df, 'Wednesday', 'Moscow')"
      ]
    },
    {
      "cell_type": "code",
      "execution_count": null,
      "metadata": {
        "id": "zdi5GVqzxYsq",
        "colab": {
          "base_uri": "https://localhost:8080/"
        },
        "outputId": "f188ed40-12b6-45c2-9262-279e4fdc6f87"
      },
      "outputs": [
        {
          "output_type": "execute_result",
          "data": {
            "text/plain": [
              "6913"
            ]
          },
          "metadata": {},
          "execution_count": 31
        }
      ],
      "source": [
        "# <список композиций для Санкт-Петербурга в среду>\n",
        "piter.append(number_tracks(df, 'Wednesday', 'Saint-Petersburg'))\n",
        "number_tracks(df, 'Wednesday', 'Saint-Petersburg')"
      ]
    },
    {
      "cell_type": "code",
      "execution_count": null,
      "metadata": {
        "id": "8KiipDrKxYsq",
        "colab": {
          "base_uri": "https://localhost:8080/"
        },
        "outputId": "88ab730a-f88c-4eb0-c456-088f8721f63e"
      },
      "outputs": [
        {
          "output_type": "execute_result",
          "data": {
            "text/plain": [
              "15680"
            ]
          },
          "metadata": {},
          "execution_count": 32
        }
      ],
      "source": [
        "# <список композиций для Москвы в пятницу>\n",
        "moscow.append(number_tracks(df, 'Friday', 'Moscow'))\n",
        "number_tracks(df, 'Friday', 'Moscow')"
      ]
    },
    {
      "cell_type": "code",
      "execution_count": null,
      "metadata": {
        "id": "3TuI6OKDxYsq"
      },
      "outputs": [],
      "source": [
        "# <список композиций для Санкт-Петербурга в пятницу>\n",
        "piter.append(number_tracks(df, 'Friday', 'Saint-Petersburg'))\n",
        "number_tracks(df, 'Friday', 'Saint-Petersburg')\n",
        "total = [moscow, piter]"
      ]
    },
    {
      "cell_type": "markdown",
      "metadata": {
        "id": "iQoriUbwxYsq"
      },
      "source": [
        "Сведём полученную информацию в одну таблицу, где ['city', 'monday', 'wednesday', 'friday'] названия столбцов."
      ]
    },
    {
      "cell_type": "code",
      "execution_count": null,
      "metadata": {
        "id": "GyFXs7vnxYsq",
        "colab": {
          "base_uri": "https://localhost:8080/"
        },
        "outputId": "5f316d16-fe32-49c4-d822-927050f27051"
      },
      "outputs": [
        {
          "output_type": "stream",
          "name": "stdout",
          "text": [
            "               city  monday  wednesday  friday\n",
            "0            Moscow   15347      10865   15680\n",
            "1  Saint-Petersburg    5519       6913    5802\n"
          ]
        }
      ],
      "source": [
        "# <таблица с полученными данными>\n",
        "total_cases = pd.DataFrame(data=total, columns=['city', 'monday', 'wednesday', 'friday'])\n",
        "print(total_cases)"
      ]
    },
    {
      "cell_type": "markdown",
      "metadata": {
        "id": "73gq-zQGxYsq"
      },
      "source": [
        "## Вывод\n",
        "\n",
        "*Запишите здесь ваши выводы.Опишите закономерности, которые вы наблюдаете по дням недели и городам. В Москве в понедельник и пятницу почти одинаковое количество прослушиваней. в Питере наоборот большое число прослушиваней в среду. И так как Москва больше Питера и является столицей, сумарно там больше прослушиваней.*"
      ]
    },
    {
      "cell_type": "markdown",
      "metadata": {
        "id": "Fk_ySZGxxYsq"
      },
      "source": [
        "# Утро понедельника и вечер пятницы — разная музыка или одна и та же?\n",
        "\n",
        "Ищем ответ на вопрос, какие жанры преобладают в разных городах в понедельник утром и в пятницу вечером. Есть предположение, что в понедельник утром пользователи слушают больше бодрящей музыки (например, жанра поп), а вечером пятницы — больше танцевальных (например, электронику).\n",
        "Получим таблицы данных по Москве moscow_general и по Санкт-Петербургу spb_general.\n"
      ]
    },
    {
      "cell_type": "code",
      "execution_count": null,
      "metadata": {
        "id": "xQQWPC-zxYsq",
        "colab": {
          "base_uri": "https://localhost:8080/"
        },
        "outputId": "2147a3f6-a669-43d5-fc35-6c6dabebd344"
      },
      "outputs": [
        {
          "output_type": "stream",
          "name": "stdout",
          "text": [
            "         userID                          Track                   artist  \\\n",
            "1      55204538    Delayed Because of Accident         Andreas Rönnberg   \n",
            "4      E2DC1FAE                    Soul People               Space Echo   \n",
            "6      4CB90AA5                           True             Roman Messer   \n",
            "7      F03E1C1F               Feeling This Way          Polina Griffith   \n",
            "8      8FA1D3BE       И вновь продолжается бой                  unknown   \n",
            "...         ...                            ...                      ...   \n",
            "65073  83A474E7  I Worship Only What You Bleed  The Black Dahlia Murder   \n",
            "65074  729CBB09                        My Name                   McLean   \n",
            "65076  C5E3A0D5                      Jalopiina                  unknown   \n",
            "65077  321D0506                  Freight Train            Chas McDevitt   \n",
            "65078  3A64EF84      Tell Me Sweet Little Lies             Monica Lopez   \n",
            "\n",
            "              genre    City            time        Day  \n",
            "1              rock  Moscow 0 days 14:07:09     Friday  \n",
            "4             dance  Moscow 0 days 08:34:34     Monday  \n",
            "6             dance  Moscow 0 days 13:00:07  Wednesday  \n",
            "7             dance  Moscow 0 days 20:47:49  Wednesday  \n",
            "8            ruspop  Moscow 0 days 09:17:40     Friday  \n",
            "...             ...     ...             ...        ...  \n",
            "65073  extrememetal  Moscow 0 days 21:07:12     Monday  \n",
            "65074           rnb  Moscow 0 days 13:32:28  Wednesday  \n",
            "65076    industrial  Moscow 0 days 20:09:26     Friday  \n",
            "65077          rock  Moscow 0 days 21:43:59     Friday  \n",
            "65078       country  Moscow 0 days 21:59:46     Friday  \n",
            "\n",
            "[41892 rows x 7 columns]\n"
          ]
        }
      ],
      "source": [
        "# получение таблицы moscow_general из тех строк таблицы df,\n",
        "# для которых значение в столбце 'city' равно 'Moscow'\n",
        "moscow_general = df[df['City'] == 'Moscow']\n",
        "# <получение таблицы spb_general>\n",
        "spb_general = df[df['City'] == 'Saint-Petersburg']\n"
      ]
    },
    {
      "cell_type": "markdown",
      "metadata": {
        "id": "vOqrhjEoxYsq"
      },
      "source": [
        "Создаём функцию genre_weekday(), которая возвращает список жанров по запрошенному дню недели и времени суток с такого-то часа по такой-то."
      ]
    },
    {
      "cell_type": "code",
      "execution_count": null,
      "metadata": {
        "id": "0jXYKEBTxYsr"
      },
      "outputs": [],
      "source": [
        "# объявление функции genre_weekday() с параметрами df, day, time1, time2\n",
        "# в переменной genre_list сохраняются те строки df, для которых одновременно:\n",
        "# 1) значение в столбце 'weekday' равно параметру day,\n",
        "# 2) значение в столбце 'time' больше time1 и\n",
        "# 3) меньше time2.\n",
        "# в переменной genre_list_sorted сохраняются в порядке убывания\n",
        "# первые 10 значений Series, полученной подсчётом числа значений 'genre_name'\n",
        "# сгруппированной по столбцу 'genre_name' таблицы genre_list\n",
        "# функция возвращает значение genre_list_sorted\n",
        "def genre_weekday(df, Day, time1, time2):\n",
        "    # Фильтрация данных по дню недели и диапазону времени\n",
        "    genre_list = df[(df['Day'] == day) &\n",
        "                    (df['time'] > time1) &\n",
        "                    (df['time'] < time2)]\n",
        "\n",
        "    # Группировка по 'genre_name' и подсчет значений, сортировка по убыванию и получение первых 10\n",
        "    genre_list_sorted = genre_list['genre'].value_counts().nlargest(10)\n",
        "\n",
        "    # Возврат отсортированного списка\n",
        "    return genre_list_sorted"
      ]
    },
    {
      "cell_type": "markdown",
      "metadata": {
        "id": "X9RdLhVJxYsr"
      },
      "source": [
        "Cравниваем полученные результаты по таблице для Москвы и Санкт-Петербурга в понедельник утром (с 7 до 11) и в пятницу вечером (с 17 до 23)."
      ]
    },
    {
      "cell_type": "code",
      "execution_count": null,
      "metadata": {
        "id": "e1v_5MsDxYsr",
        "colab": {
          "base_uri": "https://localhost:8080/"
        },
        "outputId": "abec9e34-abbe-410f-f673-981a2d5d573f"
      },
      "outputs": [
        {
          "output_type": "stream",
          "name": "stdout",
          "text": [
            "genre\n",
            "pop            781\n",
            "dance          549\n",
            "electronic     480\n",
            "rock           474\n",
            "hiphop         285\n",
            "ruspop         186\n",
            "world          181\n",
            "rusrap         175\n",
            "alternative    164\n",
            "classical      157\n",
            "Name: count, dtype: int64\n"
          ]
        }
      ],
      "source": [
        "# <вызов функции для утра понедельника в Москве (вместо df таблица moscow_general)>\n",
        "print(genre_weekday(moscow_general, 'Monday', pd.to_timedelta('07:00:00'), pd.to_timedelta('11:00:00')))"
      ]
    },
    {
      "cell_type": "code",
      "execution_count": null,
      "metadata": {
        "id": "uwDT1HBNxYsr",
        "colab": {
          "base_uri": "https://localhost:8080/"
        },
        "outputId": "ecf2bd54-86ec-4e83-e585-864284cba5fb"
      },
      "outputs": [
        {
          "output_type": "stream",
          "name": "stdout",
          "text": [
            "genre\n",
            "pop            218\n",
            "dance          182\n",
            "rock           162\n",
            "electronic     147\n",
            "hiphop          80\n",
            "ruspop          64\n",
            "alternative     58\n",
            "rusrap          55\n",
            "jazz            44\n",
            "classical       40\n",
            "Name: count, dtype: int64\n"
          ]
        }
      ],
      "source": [
        "# <вызов функции для утра понедельника в Петербурге (вместо df таблица spb_general)>\n",
        "print(genre_weekday(spb_general, 'Monday', pd.to_timedelta('07:00:00'), pd.to_timedelta('11:00:00')))"
      ]
    },
    {
      "cell_type": "code",
      "execution_count": null,
      "metadata": {
        "id": "udYYvU80xYsr",
        "colab": {
          "base_uri": "https://localhost:8080/"
        },
        "outputId": "22d9accb-117d-4076-c1f6-bb92abc40636"
      },
      "outputs": [
        {
          "output_type": "stream",
          "name": "stdout",
          "text": [
            "genre\n",
            "pop            717\n",
            "dance          524\n",
            "rock           518\n",
            "electronic     485\n",
            "hiphop         238\n",
            "alternative    182\n",
            "classical      172\n",
            "world          172\n",
            "ruspop         149\n",
            "rusrap         133\n",
            "Name: count, dtype: int64\n"
          ]
        }
      ],
      "source": [
        "# <вызов функции для вечера пятницы в Москве>\n",
        "print(genre_weekday(moscow_general, 'Friday', pd.to_timedelta('17:00:00'), pd.to_timedelta('23:00:00')))"
      ]
    },
    {
      "cell_type": "code",
      "execution_count": null,
      "metadata": {
        "id": "3NCB7K3gxYsr",
        "colab": {
          "base_uri": "https://localhost:8080/"
        },
        "outputId": "a42d0956-cb36-494d-b70c-57de1e307320"
      },
      "outputs": [
        {
          "output_type": "stream",
          "name": "stdout",
          "text": [
            "genre\n",
            "pop            263\n",
            "rock           208\n",
            "electronic     192\n",
            "dance          191\n",
            "hiphop         104\n",
            "alternative     72\n",
            "classical       71\n",
            "jazz            57\n",
            "rusrap          54\n",
            "ruspop          53\n",
            "Name: count, dtype: int64\n"
          ]
        }
      ],
      "source": [
        "# <вызов функции для вечера пятницы в Питере>\n",
        "print(genre_weekday(spb_general, 'Friday', pd.to_timedelta('17:00:00'), pd.to_timedelta('23:00:00')))"
      ]
    },
    {
      "cell_type": "markdown",
      "metadata": {
        "id": "x411Y_evxYsr"
      },
      "source": [
        "Популярные жанры в понедельник утром в Питере и Москве оказались похожи: везде, как и предполагалось, популярен *(вставьте сюда название жанра)*. Несмотря на это, концовка топ-10 для двух городов различается: в Питере в топ-10 входит джаз и русский рэп, а в Москве жанр world.\n",
        "\n",
        "*(Опишите здесь, меняется ли ситуация в музыкальными предпочтениями в конце недели, заметна ли разница в концовке ТОП-10)*\n",
        "\n",
        "## Вывод\n",
        "Жанр *(вставьте сюда название жанра)* безусловный лидер, а топ-5 в целом не различается в обеих столицах. При этом видно, что концовка списка более «живая»: для каждого города выделяются более характерные жанры, которые действительно меняют свои позиции в зависимости от дня недели и времени.\n"
      ]
    },
    {
      "cell_type": "markdown",
      "metadata": {
        "id": "7IlhAhgDxYss"
      },
      "source": [
        "# Москва и Питер — две разные столицы, два разных направления в музыке. Правда?\n",
        "\n",
        "Гипотеза: Питер богат своей рэп-культурой, поэтому это направление там слушают чаще, а Москва — город контрастов, но основная масса пользователей слушает попсу.\n",
        "\n",
        "Сгруппируем таблицу moscow_general по жанру, сосчитаем численность композиций каждого жанра методом count(), отсортируем в порядке убывания и сохраним результат в таблице moscow_genres.\n",
        "\n",
        "Просмотрим первые 10 строк этой новой таблицы.\n"
      ]
    },
    {
      "cell_type": "code",
      "execution_count": null,
      "metadata": {
        "id": "7skh0dLvxYss"
      },
      "outputs": [],
      "source": [
        "# одной строкой: группировка таблицы moscow_general по столбцу 'genre_name',\n",
        "# подсчёт числа значений 'genre_name' в этой группировке методом count(),\n",
        "# сортировка Series в порядке убывания и сохранение в moscow_genres\n",
        "moscow_genres = moscow_general.groupby('genre')['genre'].count().sort_values(ascending=False)"
      ]
    },
    {
      "cell_type": "code",
      "execution_count": null,
      "metadata": {
        "id": "CG5_FqF6xYss",
        "colab": {
          "base_uri": "https://localhost:8080/",
          "height": 429
        },
        "outputId": "1dc17ff2-6aa0-45b5-b92c-a9cce4313804"
      },
      "outputs": [
        {
          "output_type": "execute_result",
          "data": {
            "text/plain": [
              "genre\n",
              "pop            5892\n",
              "dance          4435\n",
              "rock           3965\n",
              "electronic     3786\n",
              "hiphop         2094\n",
              "classical      1616\n",
              "world          1432\n",
              "alternative    1379\n",
              "ruspop         1372\n",
              "rusrap         1161\n",
              "Name: genre, dtype: int64"
            ],
            "text/html": [
              "<div>\n",
              "<style scoped>\n",
              "    .dataframe tbody tr th:only-of-type {\n",
              "        vertical-align: middle;\n",
              "    }\n",
              "\n",
              "    .dataframe tbody tr th {\n",
              "        vertical-align: top;\n",
              "    }\n",
              "\n",
              "    .dataframe thead th {\n",
              "        text-align: right;\n",
              "    }\n",
              "</style>\n",
              "<table border=\"1\" class=\"dataframe\">\n",
              "  <thead>\n",
              "    <tr style=\"text-align: right;\">\n",
              "      <th></th>\n",
              "      <th>genre</th>\n",
              "    </tr>\n",
              "    <tr>\n",
              "      <th>genre</th>\n",
              "      <th></th>\n",
              "    </tr>\n",
              "  </thead>\n",
              "  <tbody>\n",
              "    <tr>\n",
              "      <th>pop</th>\n",
              "      <td>5892</td>\n",
              "    </tr>\n",
              "    <tr>\n",
              "      <th>dance</th>\n",
              "      <td>4435</td>\n",
              "    </tr>\n",
              "    <tr>\n",
              "      <th>rock</th>\n",
              "      <td>3965</td>\n",
              "    </tr>\n",
              "    <tr>\n",
              "      <th>electronic</th>\n",
              "      <td>3786</td>\n",
              "    </tr>\n",
              "    <tr>\n",
              "      <th>hiphop</th>\n",
              "      <td>2094</td>\n",
              "    </tr>\n",
              "    <tr>\n",
              "      <th>classical</th>\n",
              "      <td>1616</td>\n",
              "    </tr>\n",
              "    <tr>\n",
              "      <th>world</th>\n",
              "      <td>1432</td>\n",
              "    </tr>\n",
              "    <tr>\n",
              "      <th>alternative</th>\n",
              "      <td>1379</td>\n",
              "    </tr>\n",
              "    <tr>\n",
              "      <th>ruspop</th>\n",
              "      <td>1372</td>\n",
              "    </tr>\n",
              "    <tr>\n",
              "      <th>rusrap</th>\n",
              "      <td>1161</td>\n",
              "    </tr>\n",
              "  </tbody>\n",
              "</table>\n",
              "</div><br><label><b>dtype:</b> int64</label>"
            ]
          },
          "metadata": {},
          "execution_count": 94
        }
      ],
      "source": [
        "# <просмотр первых 10 строк moscow_genres>\n",
        "moscow_genres.head(10)"
      ]
    },
    {
      "cell_type": "markdown",
      "metadata": {
        "id": "EffkGkZXxYss"
      },
      "source": [
        "Сгруппируем таблицу spb_general по жанру, сосчитаем численность композиций каждого жанра методом count(), отсортируем в порядке убывания и сохраним результат в таблице spb_genres.\n",
        "\n",
        "Просматриваем первые 10 строк этой таблицы. Теперь можно сравнивать два города.\n"
      ]
    },
    {
      "cell_type": "code",
      "execution_count": null,
      "metadata": {
        "id": "HLTG_fASxYss"
      },
      "outputs": [],
      "source": [
        "# <группировка таблицы spb_general, расчёт, сохранение в spb_genres>\n",
        "spb_genres = spb_general.groupby('genre')['genre'].count().sort_values(ascending=False)"
      ]
    },
    {
      "cell_type": "code",
      "execution_count": null,
      "metadata": {
        "id": "KmkG-KrwxYss",
        "colab": {
          "base_uri": "https://localhost:8080/",
          "height": 429
        },
        "outputId": "630f9ee6-3fc7-45ba-dd32-e27ce80e3647"
      },
      "outputs": [
        {
          "output_type": "execute_result",
          "data": {
            "text/plain": [
              "genre\n",
              "pop            2431\n",
              "dance          1932\n",
              "rock           1879\n",
              "electronic     1736\n",
              "hiphop          960\n",
              "alternative     649\n",
              "classical       646\n",
              "rusrap          564\n",
              "ruspop          538\n",
              "world           515\n",
              "Name: genre, dtype: int64"
            ],
            "text/html": [
              "<div>\n",
              "<style scoped>\n",
              "    .dataframe tbody tr th:only-of-type {\n",
              "        vertical-align: middle;\n",
              "    }\n",
              "\n",
              "    .dataframe tbody tr th {\n",
              "        vertical-align: top;\n",
              "    }\n",
              "\n",
              "    .dataframe thead th {\n",
              "        text-align: right;\n",
              "    }\n",
              "</style>\n",
              "<table border=\"1\" class=\"dataframe\">\n",
              "  <thead>\n",
              "    <tr style=\"text-align: right;\">\n",
              "      <th></th>\n",
              "      <th>genre</th>\n",
              "    </tr>\n",
              "    <tr>\n",
              "      <th>genre</th>\n",
              "      <th></th>\n",
              "    </tr>\n",
              "  </thead>\n",
              "  <tbody>\n",
              "    <tr>\n",
              "      <th>pop</th>\n",
              "      <td>2431</td>\n",
              "    </tr>\n",
              "    <tr>\n",
              "      <th>dance</th>\n",
              "      <td>1932</td>\n",
              "    </tr>\n",
              "    <tr>\n",
              "      <th>rock</th>\n",
              "      <td>1879</td>\n",
              "    </tr>\n",
              "    <tr>\n",
              "      <th>electronic</th>\n",
              "      <td>1736</td>\n",
              "    </tr>\n",
              "    <tr>\n",
              "      <th>hiphop</th>\n",
              "      <td>960</td>\n",
              "    </tr>\n",
              "    <tr>\n",
              "      <th>alternative</th>\n",
              "      <td>649</td>\n",
              "    </tr>\n",
              "    <tr>\n",
              "      <th>classical</th>\n",
              "      <td>646</td>\n",
              "    </tr>\n",
              "    <tr>\n",
              "      <th>rusrap</th>\n",
              "      <td>564</td>\n",
              "    </tr>\n",
              "    <tr>\n",
              "      <th>ruspop</th>\n",
              "      <td>538</td>\n",
              "    </tr>\n",
              "    <tr>\n",
              "      <th>world</th>\n",
              "      <td>515</td>\n",
              "    </tr>\n",
              "  </tbody>\n",
              "</table>\n",
              "</div><br><label><b>dtype:</b> int64</label>"
            ]
          },
          "metadata": {},
          "execution_count": 97
        }
      ],
      "source": [
        "# <просмотр первых 10 строк spb_genres>\n",
        "spb_genres.head(10)"
      ]
    },
    {
      "cell_type": "markdown",
      "metadata": {
        "id": "AFV-3SgJxYss"
      },
      "source": [
        "## Вывод\n",
        "В Москве, кроме абсолютно популярного жанра поп, есть направление русской популярной музыки. Значит, что интерес к этому жанру шире. А рэп, вопреки предположению, занимает в обоих городах близкие позиции.\n"
      ]
    },
    {
      "cell_type": "markdown",
      "metadata": {
        "id": "EltRbakWxYss"
      },
      "source": [
        "# Результаты исследования\n",
        "\n",
        "Рабочие гипотезы:\n",
        "\n",
        "•\tмузыку в двух городах — Москве и Санкт-Петербурге — слушают в разном режиме;\n",
        "\n",
        "•\tсписки десяти самых популярных жанров утром в понедельник и вечером в пятницу имеют характерные отличия;\n",
        "\n",
        "•\tнаселение двух городов предпочитает разные музыкальные жанры.\n",
        "\n",
        "**Общие результаты**\n",
        "\n",
        "Москва и Петербург сходятся во вкусах: везде преобладает популярная музыка. При этом зависимости предпочтений от дня недели в каждом отдельном городе нет — люди постоянно слушают то, что им нравится. Но между городами в разрезе дней неделей наблюдается зеркальность относительно среды: Москва больше слушает в понедельник и пятницу, а Петербург наоборот - больше в среду, но меньше в понедельник и пятницу.\n",
        "В результате первая гипотеза *подтверждена / не подтверждена*, вторая гипотеза *подтверждена / не подтверждена* и третья не подтверждена >.*подтверждена / не подтверждена*\n"
      ]
    },
    {
      "cell_type": "code",
      "execution_count": null,
      "metadata": {
        "id": "1IjYOGQ-xYst"
      },
      "outputs": [],
      "source": []
    },
    {
      "cell_type": "code",
      "execution_count": null,
      "metadata": {
        "id": "qvFwT2w_xYst"
      },
      "outputs": [],
      "source": []
    }
  ],
  "metadata": {
    "kernelspec": {
      "display_name": "Python 3 (ipykernel)",
      "language": "python",
      "name": "python3"
    },
    "language_info": {
      "codemirror_mode": {
        "name": "ipython",
        "version": 3
      },
      "file_extension": ".py",
      "mimetype": "text/x-python",
      "name": "python",
      "nbconvert_exporter": "python",
      "pygments_lexer": "ipython3",
      "version": "3.9.12"
    },
    "colab": {
      "provenance": [],
      "include_colab_link": true
    }
  },
  "nbformat": 4,
  "nbformat_minor": 0
}