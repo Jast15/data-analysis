{
  "cells": [
    {
      "cell_type": "markdown",
      "metadata": {
        "id": "view-in-github",
        "colab_type": "text"
      },
      "source": [
        "<a href=\"https://colab.research.google.com/github/Jast15/data-analysis/blob/main/%D0%97%D0%B0%D0%BD%D1%8F%D1%82%D0%B8%D0%B5_4_(2).ipynb\" target=\"_parent\"><img src=\"https://colab.research.google.com/assets/colab-badge.svg\" alt=\"Open In Colab\"/></a>"
      ]
    },
    {
      "cell_type": "markdown",
      "metadata": {
        "id": "CAKW3JytidUP"
      },
      "source": [
        "# Анализ и обработка результатов\n",
        "\n",
        "В анализе данных важно наглядное представление результатов, чтобы их мог оценить заказчик. Это бизнес, где на кону громадный трафик, серверные мощности, личное время многотысячной аудитории. И одновременно это исследование.\n",
        "\n",
        "Как в настоящей экспериментальной науке, ответ непредсказуем. Его точность зависит от умелого владения статистическими методами и от качества исходных данных. Перед тем, как начинать считать, проверьте, грамотно ли ваши данные подготовлены.\n",
        "\n",
        "# Группировка данных\n",
        "\n",
        "Слово «анализ» означает разбор, рассмотрение с разных сторон. Анализ данных начинают с разделения их на группы по какому-нибудь признаку. Эта операция называется группировка данных. Она помогает изучить материал более подробно, чтобы затем перейти к поиску взаимосвязей между отдельными группами.\n",
        "\n",
        "\n",
        "Группировка оправданна, если данные чётко делятся по значимому признаку, а полученные группы близки к теме задачи. Например, когда есть данные обо всех покупках в супермаркете, можно смело заниматься группировкой. Так можно установить время наплыва покупателей и решить проблему пиковых нагрузок. Или посчитать средний чек — обычно для магазинов это ключевая метрика.\n",
        "\n",
        "\n",
        "Стадии группировки хорошо укладываются в словесную формулу **split-apply-combine**:\n",
        "\n",
        "•\tразделить, **split** — разбиение на группы по определённому критерию;\n",
        "\n",
        "•\tприменить, **apply** — применение какого-либо метода к каждой группе в отдельности, например, подсчёт численности группы методом count() или суммирование вызовом sum();\n",
        "\n",
        "•\tобъединить, **combine** — сведение результатов в новую структуру данных, в зависимости от условий разделения и выполнения метода это бывает DataFrame и Series.\n",
        "\n",
        "На картинке изображен принцип **split-apply-combine** для таблицы с экзопланетами. Посмотрим, как вообще идут дела с поиском экзопланет. Сначала данные делят по группам, где каждая группа — это год. Потом метод **count()** подсчитывает численность каждой группы. В итоге получаем новую структуру данных с группами, где каждая содержит год и число открытых за этот год экзопланет.\n",
        "\n",
        "\n",
        "В Рandas для группировки данных есть метод **groupby()**. Он принимает как аргумент название столбца, по которому нужно группировать. В случае с делением экзопланет по годам открытия:\n",
        "\n",
        "**print(exoplanet.groupby('discovered'))**\n",
        "\n",
        "**<pandas.core.groupby.DataFrameGroupBy object at 0x7fc1e1ca3400>**\n",
        "\n",
        "\n",
        "Применение метода **groupby()** к объекту типа DataFrame приводит к созданию объекта особого типа — **DataFrameGroupBy**. Это сгруппированные данные. Если применить к ним какой-нибудь метод Pandas, они станут новой структурой данных типа **DataFrame** или **Series**.\n",
        "Подсчитаем сгруппированные по годам экзопланеты методом **count()**:\n",
        "\n",
        "Если нужно сравнить наблюдения по одному показателю, метод применяют к **DataFrameGroupBy** с указанием на один столбец. Нас в первую очередь интересует радиус экзопланет: мы ищем другую Землю. Давайте получим таблицу с единственным столбцом 'radius':\n",
        "\n",
        "**exo_number = exoplanet.groupby('discovered')['radius'].count()**\n",
        "\n",
        "**print(exo_number)**\n",
        "\n",
        "Получили Series, где по годам открытия расписано количество экзопланет, для которых удалось установить радиус.\n",
        "\n",
        "Посмотрим, как меняется средний радиус открытых экзопланет год от года. Для этого надо сложить радиусы планет, открытых за определённый год, и поделить на их количество (которое мы уже нашли).\n",
        "\n",
        "Сумма радиусов считается методом **sum()**:\n",
        "\n",
        "**exo_radius_sum = exoplanet.groupby('discovered')['radius'].sum()**\n",
        "\n",
        "\n",
        "**print(exo_radius_sum)**\n",
        "\n",
        "\n",
        "\n",
        "## Задача\n",
        "Вашему вниманию предлагается датасет с обзором показателей самоубийств с 1985 по 2016 год — Сравнение социально-экономической информации с показателями самоубийств по годам и странам.\n",
        "\n",
        "Столбцами этой таблицы являются: страна, год, пол, возрастная группа, количество самоубийств, население, уровень самоубийств, сводный ключ по стране за год, ИЧР (индекс человеческого развития) за год, ВВП за год, ВВП на душу населения, поколение (на основе среднего по возрастной группе).\n",
        "\n",
        "1. Загрузите таблицу master, содержащую данные о самоубийствах. Выведите на экран таблицу и оцените данные, обратите внимание на названия столбцов, переименуйте их, если это необходимо.\n",
        "\n",
        "2. Убедитесь в том, что данные прошли предподготовку.  Пропущенные и неопределённые значения выявляет метод isna(), а суммарное количество таких значений — метод sum().\n",
        "\n",
        "3. Сгруппируйте DataFrame по столбцу country, сохраните полученный результат в переменной country_grouping.\n",
        "\n",
        "4. Посчитайте количество случаев самоубийств по странам, которые были совершены, методом **sum()**, указав, что выбираем один столбец suicides_no.\n",
        "\n",
        "Сохраните результат в переменной country_sum и выведите первые 30 строк этой таблицы.\n",
        "\n"
      ]
    },
    {
      "cell_type": "code",
      "execution_count": null,
      "metadata": {
        "scrolled": true,
        "colab": {
          "base_uri": "https://localhost:8080/"
        },
        "id": "Il5P1paFidUR",
        "outputId": "f3c8455d-aaa0-46d3-a9ca-b8ecfc5c08e2"
      },
      "outputs": [
        {
          "output_type": "stream",
          "name": "stdout",
          "text": [
            "   country  year     sex          age  suicides_no  population  \\\n",
            "0  Albania  1987    male  15-24 years           21      312900   \n",
            "1  Albania  1987    male  35-54 years           16      308000   \n",
            "2  Albania  1987  female  15-24 years           14      289700   \n",
            "3  Albania  1987    male    75+ years            1       21800   \n",
            "4  Albania  1987    male  25-34 years            9      274300   \n",
            "\n",
            "   suicides/100k pop country-year  HDI for year  gdp_for_year ($)   \\\n",
            "0               6.71  Albania1987           NaN      2,156,624,900   \n",
            "1               5.19  Albania1987           NaN      2,156,624,900   \n",
            "2               4.83  Albania1987           NaN      2,156,624,900   \n",
            "3               4.59  Albania1987           NaN      2,156,624,900   \n",
            "4               3.28  Albania1987           NaN      2,156,624,900   \n",
            "\n",
            "   gdp_per_capita ($)       generation  \n",
            "0                 796     Generation X  \n",
            "1                 796           Silent  \n",
            "2                 796     Generation X  \n",
            "3                 796  G.I. Generation  \n",
            "4                 796          Boomers  \n",
            "Названия столбцов: ['country', 'year', 'sex', 'age', 'suicides_no', 'population', 'suicides/100k pop', 'country-year', 'HDI for year', ' gdp_for_year ($) ', 'gdp_per_capita ($)', 'generation']\n",
            "Количество пропущенных значений по столбцам перед удалением:\n",
            " country                   0\n",
            "year                      0\n",
            "sex                       0\n",
            "age                       0\n",
            "suicides_no               0\n",
            "population                0\n",
            "suicides/100k pop         0\n",
            "country-year              0\n",
            "HDI for year          19456\n",
            " gdp_for_year ($)         0\n",
            "gdp_per_capita ($)        0\n",
            "generation                0\n",
            "dtype: int64\n",
            "Количество пропущенных значений по столбцам после удаления:\n",
            " country               0\n",
            "year                  0\n",
            "sex                   0\n",
            "age                   0\n",
            "suicides_no           0\n",
            "population            0\n",
            "suicides/100k pop     0\n",
            "country-year          0\n",
            "HDI for year          0\n",
            " gdp_for_year ($)     0\n",
            "gdp_per_capita ($)    0\n",
            "generation            0\n",
            "dtype: int64\n",
            "                   country  suicides_no\n",
            "0                  Albania         1970\n",
            "1      Antigua and Barbuda           11\n",
            "2                Argentina        82219\n",
            "3                  Armenia         1905\n",
            "4                    Aruba          101\n",
            "5                Australia        70111\n",
            "6                  Austria        50073\n",
            "7               Azerbaijan         1656\n",
            "8                  Bahamas           93\n",
            "9                  Bahrain          463\n",
            "10                Barbados          177\n",
            "11                 Belarus        59892\n",
            "12                 Belgium        62761\n",
            "13                  Belize          348\n",
            "14  Bosnia and Herzegovina          318\n",
            "15                  Brazil       226613\n",
            "16                Bulgaria        36388\n",
            "17              Cabo Verde           42\n",
            "18                  Canada       107561\n",
            "19                   Chile        40895\n",
            "20                Colombia        53080\n",
            "21              Costa Rica         6792\n",
            "22                 Croatia        18429\n",
            "23                    Cuba        41418\n",
            "24                  Cyprus          412\n",
            "25          Czech Republic        43687\n",
            "26                 Denmark        15297\n",
            "27                Dominica            0\n",
            "28                 Ecuador        20660\n",
            "29             El Salvador        11683\n"
          ]
        }
      ],
      "source": [
        "import pandas as pd\n",
        "\n",
        "df = pd.read_csv('master.csv')\n",
        "\n",
        "print(df.head())\n",
        "\n",
        "print(\"Названия столбцов:\", df.columns.tolist())\n",
        "\n",
        "# Проверка наличия пропущенных значений\n",
        "missing_values_before = df.isna().sum()\n",
        "print(\"Количество пропущенных значений по столбцам перед удалением:\\n\", missing_values_before)\n",
        "\n",
        "# Удаление строк с пропущенными значениями\n",
        "df_cleaned = df.dropna()\n",
        "\n",
        "# Проверка наличия пропущенных значений после удаления\n",
        "missing_values_after = df_cleaned.isna().sum()\n",
        "print(\"Количество пропущенных значений по столбцам после удаления:\\n\", missing_values_after)\n",
        "\n",
        "# Группировка по стране\n",
        "country_grouping = df.groupby('country')\n",
        "\n",
        "# Подсчет общего количества самоубийств по странам\n",
        "country_sum = country_grouping['suicides_no'].sum().reset_index()\n",
        "\n",
        "# Вывод первых 30 строк таблицы с количеством самоубийств по странам\n",
        "print(country_sum.head(30))\n",
        "\n",
        "\n",
        "\n"
      ]
    },
    {
      "cell_type": "markdown",
      "metadata": {
        "id": "gF9rhu1PidUR"
      },
      "source": [
        "# Сортировка данных\n",
        "\n",
        "\n",
        "Поиск необычного в группе — что среди планет, что среди меломанов — это прежде всего поиск чемпионов: объектов с выдающимися показателями по разным статьям. Как всю таблицу, так и отдельные группы изучают, сортируя строки по какому-либо столбцу.\n",
        "\n",
        "В Pandas для этой операции есть метод **sort_values()**. У него два аргумента:\n",
        "\n",
        "• **by = 'имя столбца'** — имя столбца, по которому нужно сортировать;\n",
        "\n",
        "• **ascending:** по умолчанию True. Для сортировки по убыванию установите значение False.\n",
        "\n",
        "\n",
        "\n",
        "Среди экзопланет интересны близкие по размерам к Земле. Есть ли такие? Отсортируем список по радиусу в порядке возрастания. Тогда в голове таблицы окажутся самые малые, на которых гравитация не прижмёт нас к полу.\n",
        "\n",
        "**print(exoplanet.sort_values(by='radius').head(30))**\n",
        "\n",
        "Оказывается, некоторые из уже открытых экзопланет по размерам близки не то что к Земле, но уже и к Луне! Получим список экзопланет с радиусом меньше земного. Смотрите, как логический оператор (здесь это <) задействуется в отборе элементов столбца. Дальше нам этот приём не раз понадобится.\n",
        "\n",
        "**print(exoplanet[exoplanet['radius'] < 1])**\n",
        "\n",
        "Но и этот список такой длинный, что изучать его лучше по частям. Экзопланеты, близкие по размерам к Земле, за последнее десятилетие открывали нередко. Можно изучать список открытых за каждый год. Например, для 2014 года (вновь обратите внимание на работу логического оператора, теперь это ==):\n",
        "\n",
        "**print(exoplanet[exoplanet['discovered'] == 2014])**\n",
        "\n",
        "А чтобы не тратить время на лишнее, поставим оба условия сразу. Для этого в Pandas есть логический оператор &, подобный оператору and языка Python. Напомним, его смысл на русском языке можно передать словами «и ещё»:\n",
        "\n",
        "**exo_small_14 = exoplanet[ (exoplanet['radius']<1) & (exoplanet['discovered']==2014)]**\n",
        "\n",
        "**print(exo_small_14)**\n",
        "\n",
        "Отсортируем результат в порядке убывания радиуса.\n",
        "\n",
        "**print(exo_small_14.sort_values(by = 'radius', ascending = False))**\n",
        "\n",
        "\n",
        "\n"
      ]
    },
    {
      "cell_type": "markdown",
      "metadata": {
        "id": "UNOEcLAGidUS"
      },
      "source": [
        "## Задача\n",
        "1. Выделим пятерки стран с самым низким и самым высоким уровнем самоубийств в мире."
      ]
    },
    {
      "cell_type": "code",
      "execution_count": null,
      "metadata": {
        "colab": {
          "base_uri": "https://localhost:8080/"
        },
        "id": "g19Jm4FUidUS",
        "outputId": "9a2ea72b-3fa7-4197-90af-123158d5291a"
      },
      "outputs": [
        {
          "output_type": "stream",
          "name": "stdout",
          "text": [
            "Пять стран с самым низким количеством самоубийств:\n",
            "                  country  suicides_no\n",
            "27               Dominica            0\n",
            "76  Saint Kitts and Nevis            0\n",
            "79             San Marino            4\n",
            "1     Antigua and Barbuda           11\n",
            "55               Maldives           20\n",
            "\n",
            "Пять стран с самым высоким количеством самоубийств:\n",
            "               country  suicides_no\n",
            "75  Russian Federation      1209742\n",
            "98       United States      1034013\n",
            "46               Japan       806902\n",
            "33              France       329127\n",
            "95             Ukraine       319950\n"
          ]
        }
      ],
      "source": [
        "lowest_suicides = country_sum.nsmallest(5, 'suicides_no')\n",
        "highest_suicides = country_sum.nlargest(5, 'suicides_no')\n",
        "\n",
        "print(\"Пять стран с самым низким количеством самоубийств:\")\n",
        "print(lowest_suicides[['country', 'suicides_no']])\n",
        "\n",
        "print(\"\\nПять стран с самым высоким количеством самоубийств:\")\n",
        "print(highest_suicides[['country', 'suicides_no']])\n"
      ]
    },
    {
      "cell_type": "markdown",
      "metadata": {
        "id": "1xjyoJoLidUS"
      },
      "source": [
        "2. Исследуйте распределение количества суидидов по гендерному признаку. Найдите лидеров и антилидеров по количеству самоубийств среди женщин. Повторяется ли картина по сравнению с предыдущим исследованием?"
      ]
    },
    {
      "cell_type": "code",
      "execution_count": null,
      "metadata": {
        "colab": {
          "base_uri": "https://localhost:8080/"
        },
        "id": "GBq13MwnidUS",
        "outputId": "ce929c92-602e-421e-d32d-5c5250545113"
      },
      "outputs": [
        {
          "output_type": "stream",
          "name": "stdout",
          "text": [
            "Страна с самым низким количеством самоубийств среди женщин:\n",
            "               country  suicides_no\n",
            "1  Antigua and Barbuda            0\n",
            "\n",
            "Страна с самым высоким количеством самоубийств среди женщин:\n",
            "   country  suicides_no\n",
            "43   Japan        80683\n",
            "Вывод: по сравнению с предыдущим иследованием данные немного различаются,\n",
            "но страны с самым низким и высоким количеством самоубийств среди женщин \n",
            "входит в топ 5, предыдущего иследования.\n"
          ]
        }
      ],
      "source": [
        "women_suicides = df_cleaned[df_cleaned['sex'] == 'female']\n",
        "\n",
        "country_women_suicides = women_suicides.groupby('country').agg({'suicides_no': 'sum'}).reset_index()\n",
        "\n",
        "lowest_women_suicides = country_women_suicides.nsmallest(1, 'suicides_no')\n",
        "highest_women_suicides = country_women_suicides.nlargest(1, 'suicides_no')\n",
        "\n",
        "print(\"Страна с самым низким количеством самоубийств среди женщин:\")\n",
        "print(lowest_women_suicides[['country', 'suicides_no']])\n",
        "\n",
        "print(\"\\nСтрана с самым высоким количеством самоубийств среди женщин:\")\n",
        "print(highest_women_suicides[['country', 'suicides_no']])\n",
        "\n",
        "print(\"Вывод: по сравнению с предыдущим иследованием данные немного различаются,\\nно страны с самым низким и высоким количеством самоубийств среди женщин \\nвходит в топ 5, предыдущего иследования.\")\n"
      ]
    },
    {
      "cell_type": "markdown",
      "metadata": {
        "id": "-y8hKXQ2idUT"
      },
      "source": [
        "# Описательная статистика\n",
        "\n",
        "Чтобы представить себе среднестатистического самоубийцу, понадобится описательная статистика.\n",
        "\n",
        "Из её показателей для количественного описания данных в нашей задаче нужны четыре меры — максимум, минимум, медиана и среднее.\n",
        "\n",
        "Наибольшее и наименьшее обычно вычисляют только по одному признаку. Например, можно получить минимальное и максимальное значение уровня самоубийств (количество самоубийств на 100 тыс.населения) (столбец 'suicides/100k pop'). Для поиска максимума вызывают метод max(), примененный к этому столбцу:\n",
        "\n",
        "print(master['suicides/100k pop'].max())\n"
      ]
    },
    {
      "cell_type": "code",
      "execution_count": null,
      "metadata": {
        "colab": {
          "base_uri": "https://localhost:8080/"
        },
        "id": "EXrSGQZ5idUT",
        "outputId": "75d039b4-085d-43da-fcb3-fac195369df6"
      },
      "outputs": [
        {
          "output_type": "stream",
          "name": "stdout",
          "text": [
            "224.97\n"
          ]
        }
      ],
      "source": [
        "print(df['suicides/100k pop'].max())"
      ]
    },
    {
      "cell_type": "markdown",
      "metadata": {
        "id": "LY_DPpuZidUT"
      },
      "source": [
        "Самый высокий показатель оказался 224.97 самоубийств на 100 тыс.населения. Интересно, в какой стране такая ситуация.\n",
        "\n",
        "Запросим из master строку с максимальным значением, прибегнув к логической индексации с условием\n",
        "\n",
        "**master['suicides/100k pop'] == master['suicides/100k pop'].max()**"
      ]
    },
    {
      "cell_type": "code",
      "execution_count": null,
      "metadata": {
        "colab": {
          "base_uri": "https://localhost:8080/"
        },
        "id": "2yhPxEG_idUT",
        "outputId": "76b6da59-dca9-403a-ae2e-6fe37cabccac"
      },
      "outputs": [
        {
          "output_type": "stream",
          "name": "stdout",
          "text": [
            "Страна с максимальным уровнем самоубийств:\n",
            "     country  suicides/100k pop\n",
            "1258   Aruba             224.97\n"
          ]
        }
      ],
      "source": [
        "max_suicide_rate = df['suicides/100k pop'].max()\n",
        "country_max = df[df['suicides/100k pop'] == max_suicide_rate]\n",
        "print(\"Страна с максимальным уровнем самоубийств:\")\n",
        "print(country_max[['country', 'suicides/100k pop']])"
      ]
    },
    {
      "cell_type": "markdown",
      "metadata": {
        "id": "x14Mdz5zidUT"
      },
      "source": [
        "Минимальное значение — ищут методом **min()**. Нам интересно установить случаи, когда уровень суицидов минимальный, но не нулевой.\n",
        "\n",
        "Вот как мы создаём выборку  и находим в ней минимальное значение:\n",
        "\n",
        "**master_drop_null = master[master['suicides/100k pop'] != 0]**\n",
        "\n",
        "**print(master_drop_null['suicides/100k pop'].min())**\n"
      ]
    },
    {
      "cell_type": "code",
      "execution_count": null,
      "metadata": {
        "colab": {
          "base_uri": "https://localhost:8080/"
        },
        "id": "dVzvC3BZidUT",
        "outputId": "524d4b70-4425-4c38-843a-24af7a9c7e9b"
      },
      "outputs": [
        {
          "output_type": "stream",
          "name": "stdout",
          "text": [
            "Страна с минимальным уровнем самоубийств (не нулевой):\n",
            "            country  suicides/100k pop\n",
            "23347  South Africa               0.02\n",
            "23371  South Africa               0.02\n",
            "23479  South Africa               0.02\n",
            "25060      Thailand               0.02\n",
            "25061      Thailand               0.02\n"
          ]
        }
      ],
      "source": [
        "master_drop_null = df[df['suicides/100k pop'] != 0]\n",
        "\n",
        "min_suicide_rate = master_drop_null['suicides/100k pop'].min()\n",
        "\n",
        "country_min = df[df['suicides/100k pop'] == min_suicide_rate]\n",
        "print(\"Страна с минимальным уровнем самоубийств (не нулевой):\")\n",
        "\n",
        "print(country_min[['country', 'suicides/100k pop']])"
      ]
    },
    {
      "cell_type": "markdown",
      "metadata": {
        "id": "SejN01mdidUT"
      },
      "source": [
        "Получим название самой \"счастливой\" страны. Как и при поиске максимума, воспользуемся условием и логической индексацией"
      ]
    },
    {
      "cell_type": "markdown",
      "metadata": {
        "id": "5hZH1J9MidUU"
      },
      "source": [
        "Результат вывода — две страны, которые соответствуют минимальному значению.\n",
        "На основе полученных данных можно сделать вывод, что число совершенных самоубийств на 100 тыс. населения  находится в диапазоне от 0,02 до 224.97 секунд, не включая пропущенные.\n",
        "\n",
        "Это знание пригодится, чтобы разобраться с медианой и средним арифметическим.\n",
        "\n",
        "Среднее и медиана оценивают значения в центре выборки. Если тех строк, где число с большим количеством самоубийц, столько же, сколько тех, где это число мало — среднее подойдет. Но когда есть оторванные от основной массы лидеры, их результаты сильно смещают значение среднего вверх. Вот почему оценивать в этом случае лучше медианой.\n",
        "\n",
        "\n",
        "\n",
        "В геометрии медиана делит фигуру на две равные по площади. В статистике она делит выборку пополам: в одной половине значения меньше медианного, в другой больше. Логично, что для определения медианы список обязательно должен быть отсортирован — либо по возрастанию, либо по убыванию.\n",
        "Когда количество значений нечётное, медиана будет равна тому значению, которое оказалось ровно посередине отсортированного набора. Если же количество данных чётное, то медиана рассчитывается как среднее арифметическое двух соседних чисел в середине набора.\n",
        "\n"
      ]
    },
    {
      "cell_type": "markdown",
      "metadata": {
        "id": "Q1s5t7WVidUU"
      },
      "source": [
        "В Pandas есть метод **median()**, который считает медиану. По аналогии с **min()** и **max()** его можно применять ко всей таблице, к отдельному столбцу или к сгруппированным данным. Теперь применим медиану ко всем значениям времени прослушивания в нашей таблице, исключив нулевые:\n",
        "\n"
      ]
    },
    {
      "cell_type": "code",
      "execution_count": null,
      "metadata": {
        "colab": {
          "base_uri": "https://localhost:8080/"
        },
        "id": "-ZcvLOc1idUU",
        "outputId": "b8f4a6c6-67a1-45c5-c17b-70e77eb64d70"
      },
      "outputs": [
        {
          "output_type": "stream",
          "name": "stdout",
          "text": [
            "Медиана уровня самоубийств (исключая нулевые значения): 8.26\n"
          ]
        }
      ],
      "source": [
        "df_filtered = df[df['suicides/100k pop'] != 0]\n",
        "\n",
        "median_suicides = df_filtered['suicides/100k pop'].median()\n",
        "\n",
        "print(f\"Медиана уровня самоубийств (исключая нулевые значения): {median_suicides}\")"
      ]
    },
    {
      "cell_type": "markdown",
      "metadata": {
        "id": "joWNFrUvidUU"
      },
      "source": [
        "Чтобы убедиться, что лидеры действительно смещают средний показатель вверх, найдём среднее арифметическое всех этих значений методом mean():"
      ]
    },
    {
      "cell_type": "code",
      "execution_count": null,
      "metadata": {
        "colab": {
          "base_uri": "https://localhost:8080/"
        },
        "id": "vNFSL0w2idUU",
        "outputId": "b2c2c4f3-886a-461b-b8a5-446add19b4eb"
      },
      "outputs": [
        {
          "output_type": "stream",
          "name": "stdout",
          "text": [
            "Среднее значение уровня самоубийств: 12.816097411933864\n"
          ]
        }
      ],
      "source": [
        "suicides = df['suicides/100k pop'].mean()\n",
        "print(f\"Среднее значение уровня самоубийств: {suicides}\")"
      ]
    },
    {
      "cell_type": "code",
      "execution_count": 7,
      "metadata": {
        "scrolled": true,
        "colab": {
          "base_uri": "https://localhost:8080/"
        },
        "outputId": "0228adac-97e8-446b-9b24-28ae95cbac52",
        "id": "BVAJpYzoge5r"
      },
      "outputs": [
        {
          "output_type": "stream",
          "name": "stdout",
          "text": [
            "Количество мужчин, покончивших жизнь самоубийством в Италии с 2001 по 2003: 9273\n"
          ]
        }
      ],
      "source": [
        "import pandas as pd\n",
        "\n",
        "df = pd.read_csv('master.csv')\n",
        "\n",
        "italy_men_suicides = df[(df['country'] == 'Italy') &\n",
        "                         (df['year'].between(2001, 2003)) &\n",
        "                         (df['sex'] == 'male')]\n",
        "\n",
        "total_men_suicides = italy_men_suicides['suicides_no'].sum()\n",
        "\n",
        "print(f\"Количество мужчин, покончивших жизнь самоубийством в Италии с 2001 по 2003: {total_men_suicides}\")\n",
        "\n",
        "\n"
      ]
    }
  ],
  "metadata": {
    "kernelspec": {
      "display_name": "Python 3 (ipykernel)",
      "language": "python",
      "name": "python3"
    },
    "language_info": {
      "codemirror_mode": {
        "name": "ipython",
        "version": 3
      },
      "file_extension": ".py",
      "mimetype": "text/x-python",
      "name": "python",
      "nbconvert_exporter": "python",
      "pygments_lexer": "ipython3",
      "version": "3.9.12"
    },
    "colab": {
      "provenance": [],
      "include_colab_link": true
    }
  },
  "nbformat": 4,
  "nbformat_minor": 0
}