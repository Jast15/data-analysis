{
  "cells": [
    {
      "cell_type": "markdown",
      "metadata": {
        "id": "view-in-github",
        "colab_type": "text"
      },
      "source": [
        "<a href=\"https://colab.research.google.com/github/Jast15/data-analysis/blob/main/%D0%A8%D0%B5%D0%B2%D0%B5%D0%BB%D1%91%D0%B2_%D0%98%D0%A2_32_%D0%97%D0%B0%D0%B4%D0%B0%D0%BD%D0%B8%D0%B50.ipynb\" target=\"_parent\"><img src=\"https://colab.research.google.com/assets/colab-badge.svg\" alt=\"Open In Colab\"/></a>"
      ]
    },
    {
      "cell_type": "markdown",
      "metadata": {
        "id": "1KuKdoUrvCW7"
      },
      "source": [
        "## **Задача 1. Приветствие**"
      ]
    },
    {
      "cell_type": "markdown",
      "metadata": {
        "id": "imPVogXGvT_u"
      },
      "source": [
        "На вход программе подается строка текста – имя человека.\n",
        "\n",
        " Напишите программу, которая выводит на экран приветствие в виде слова «Привет, » (без кавычек), после которого должна стоять запятая и пробел, а затем введенное имя.\n",
        "\n",
        " Для считывания текста используйте команду input(), для печати текста на экране используйте команду print().\n",
        "\n",
        "**Пример:**\n",
        "\n",
        " ввод данных: Екатерина\n",
        "\n",
        " вывод данных: Привет, Екатерина"
      ]
    },
    {
      "cell_type": "code",
      "execution_count": 2,
      "metadata": {
        "id": "NqyhA4iJ3Vtt",
        "colab": {
          "base_uri": "https://localhost:8080/"
        },
        "outputId": "d464da30-1e79-4d3d-fe81-f6d4d859147f"
      },
      "outputs": [
        {
          "output_type": "stream",
          "name": "stdout",
          "text": [
            "Вадим\n",
            "Привет, Вадим\n"
          ]
        }
      ],
      "source": [
        "a = input()\n",
        "print(\"Привет,\", a)"
      ]
    },
    {
      "cell_type": "markdown",
      "metadata": {
        "id": "8qENl25N1Y0x"
      },
      "source": [
        "## **Задача 2. Право доступа**"
      ]
    },
    {
      "cell_type": "markdown",
      "metadata": {
        "id": "qqqrqrZ34q7y"
      },
      "source": [
        "На вход программе подаётся целое число — возраст пользователя. Программа должна вывести текст:\n",
        "*   «Доступ разрешен», если возраст не менее 18;\n",
        "*   «Доступ ограничен», если возраст от 14 до 17 лет (включительно);\n",
        "*   «Доступ запрещен», если возраст менее 14 лет.\n",
        "\n",
        "Для считывания возраста используйте команду input(), не забыв преобразовать тип данных в числовой с помощью int(); для печати текста на экране используйте команду print(). Используйте условные операторы if-elif-else.\n",
        "\n",
        "**Пример:**\n",
        "\n",
        " ввод данных: 17\n",
        "\n",
        " вывод данных: Доступ ограничен"
      ]
    },
    {
      "cell_type": "code",
      "execution_count": null,
      "metadata": {
        "id": "rpLC73vi3WeU",
        "outputId": "19a17011-fc17-4999-9f54-f09b62ed9b29"
      },
      "outputs": [
        {
          "name": "stdout",
          "output_type": "stream",
          "text": [
            "Доступ запрещен\n"
          ]
        }
      ],
      "source": [
        "a = int(input())\n",
        "if a >=18:\n",
        "    print('Доступ разрешен')\n",
        "if 14<=a<=17:\n",
        "    print('Доступ ограничен')\n",
        "if a<=14:\n",
        "    print('Доступ запрещен')"
      ]
    },
    {
      "cell_type": "markdown",
      "metadata": {
        "id": "37D1iZ-46T9f"
      },
      "source": [
        "## **Задача 3. Повторение**"
      ]
    },
    {
      "cell_type": "markdown",
      "metadata": {
        "id": "kXRx-gtU6p2n"
      },
      "source": [
        "На вход программе подаётся:\n",
        "*   на первой строке - текстовое предложение;\n",
        "*   на второй строке - количество повторений (целое число).\n",
        "\n",
        "Напишите программу, которая выводит предложение нужное количество раз (каждое предложение должно начинаться с новой строки).\n",
        "\n",
        "Для считывания текста и числа повторений используйте команду input(), не забыв преобразовать тип данных в числовой с помощью int() для количества повторений; для печати текста на экране используйте команду print(). Используйте цикл for.\n",
        "\n",
        "**Пример:**\n",
        "\n",
        " ввод данных:\n",
        "*   Век живи - век учись!\n",
        "*   3\n",
        "\n",
        "вывод данных:\n",
        "\n",
        "Век живи - век учись!\n",
        "\n",
        "Век живи - век учись!\n",
        "\n",
        "Век живи - век учись!"
      ]
    },
    {
      "cell_type": "code",
      "execution_count": null,
      "metadata": {
        "id": "I3MQolV33Xb9",
        "outputId": "2d088c13-b130-47b9-e8ad-21c68a567f3b"
      },
      "outputs": [
        {
          "name": "stdout",
          "output_type": "stream",
          "text": [
            "Век живи - век учись!\n",
            "Век живи - век учись!\n",
            "Век живи - век учись!\n"
          ]
        }
      ],
      "source": [
        "a = input()\n",
        "b = int(input())\n",
        "for i in range(b):\n",
        "    print(a)"
      ]
    },
    {
      "cell_type": "markdown",
      "metadata": {
        "id": "hHKa8Y2j81kp"
      },
      "source": [
        "## **Задача 4. Повторение 2**"
      ]
    },
    {
      "cell_type": "markdown",
      "metadata": {
        "id": "vd60Ri5h-2d9"
      },
      "source": [
        "Реализуйте задачу 3 через цикл while."
      ]
    },
    {
      "cell_type": "code",
      "execution_count": null,
      "metadata": {
        "id": "xN1sosvL3X70",
        "outputId": "dcc6a321-d7f2-4c88-c1e8-bcd7dceddc51"
      },
      "outputs": [
        {
          "name": "stdout",
          "output_type": "stream",
          "text": [
            "Век живи - век учись!\n",
            "Век живи - век учись!\n",
            "Век живи - век учись!\n"
          ]
        }
      ],
      "source": [
        "a = input()\n",
        "b = int(input())\n",
        "i = 1\n",
        "while i<=b:\n",
        "    print(a)\n",
        "    i +=1\n",
        "\n"
      ]
    },
    {
      "cell_type": "markdown",
      "metadata": {
        "id": "wFjCdbAQBCSg"
      },
      "source": [
        "## **Задача 5. ФИО**"
      ]
    },
    {
      "cell_type": "markdown",
      "metadata": {
        "id": "pkaL_HadBH3z"
      },
      "source": [
        "Напишите функцию print_fio(name, surname, patronymic), которая принимает три параметра:\n",
        "*   name – имя человека;\n",
        "*   surname – фамилия человека;\n",
        "*   patronymic – отчество человека;\n",
        "\n",
        "а затем выводит на печать ФИО человека (на одной строке, только первые буквы в порядке surname-name-patronymic).\n",
        "\n",
        "Добавьте комментарий перед каждым этапом:\n",
        "\n",
        "*   #объявление функции\n",
        "> def print_fio(name, surname, patronymic)\n",
        "*   #ввод данных\n",
        "> name, surname, patronymic =\n",
        "*   #вызов функции\n",
        "> print_fio(name, surname, patronymic)\n",
        "\n",
        "Для считывания текста используйте команду input(); для печати текста на экране используйте команду print(), добавив параметр sep='' для печати на одной строке. Используйте def для объявления функции.\n",
        "\n",
        "**Пример:**\n",
        "\n",
        " ввод данных:\n",
        "*   Иван\n",
        "*   Сидоров\n",
        "*   Петрович\n",
        "\n",
        "вывод данных: СИП"
      ]
    },
    {
      "cell_type": "code",
      "execution_count": null,
      "metadata": {
        "id": "OsNHQU6K3Y3E",
        "outputId": "15029259-dde3-46e4-84eb-59dd1c2c2119"
      },
      "outputs": [
        {
          "name": "stdout",
          "output_type": "stream",
          "text": [
            "СИП\n"
          ]
        }
      ],
      "source": [
        "# Объявление функции\n",
        "def print_fio(name, surname, patronymic):\n",
        "    #Вывод дынных\n",
        "    print(surname[0], name[0], patronymic[0], sep='')\n",
        "#Ввод данных\n",
        "name = input()\n",
        "surname = input()\n",
        "patronymic = input()\n",
        "#Вызов функции\n",
        "print_fio(name, surname, patronymic)\n"
      ]
    },
    {
      "cell_type": "markdown",
      "metadata": {
        "id": "cCeC21NMFM_w"
      },
      "source": [
        "## **Задача 6. Первая таблица**"
      ]
    },
    {
      "cell_type": "markdown",
      "metadata": {
        "id": "BFyYI5dtFUmf"
      },
      "source": [
        "Импортируйте библиотеку pandas с именем pd. Скопируйте словарь, у которого в качестве ключей - столбцы таблицы, а в качестве значений в списках - данные таблицы:\n",
        "> data = {'col 1': ['Я', 'Python', 'Буду'], 'col 2': ['люблю', 'мой', 'стараться'], 'col 3': ['анализ', 'лучший', 'хорошо'], 'col 4': ['данных', 'друг', 'учиться']}\n",
        "\n",
        "Создайте таблицу, скопировав следующий код:\n",
        "> df = pd.DataFrame(data)\n",
        "\n",
        "где df - имя таблицы, pd.DataFrame() - конструктор таблицы, data - словарь.\n",
        "\n",
        "Выведите таблицу через print() либо просто ее вызовом без print().\n",
        "\n",
        "\n"
      ]
    },
    {
      "cell_type": "code",
      "execution_count": null,
      "metadata": {
        "id": "NcORHQCE3ZSU",
        "outputId": "68aa17b1-32f8-4dd6-bc6f-dae278482806"
      },
      "outputs": [
        {
          "name": "stdout",
          "output_type": "stream",
          "text": [
            "    col 1      col 2   col 3    col 4\n",
            "0       Я      люблю  анализ   данных\n",
            "1  Python        мой  лучший     друг\n",
            "2    Буду  стараться  хорошо  учиться\n"
          ]
        }
      ],
      "source": [
        "import pandas as pd\n",
        "\n",
        "data = {'col 1': ['Я', 'Python', 'Буду'], 'col 2': ['люблю', 'мой', 'стараться'], 'col 3': ['анализ', 'лучший', 'хорошо'], 'col 4': ['данных', 'друг', 'учиться']}\n",
        "df = pd.DataFrame(data)\n",
        "print(df)"
      ]
    },
    {
      "cell_type": "markdown",
      "source": [
        "Задание из лекции 0\n"
      ],
      "metadata": {
        "id": "RcVo96QzSU1K"
      }
    },
    {
      "cell_type": "code",
      "source": [
        "import pandas as pd\n",
        "music = [\n",
        "    ['Miyagi', 'Река'],\n",
        "    ['TumaniYo', 'Наполняй'],\n",
        "    ['КиШ', 'Кукла Колдуна'],\n",
        "    ['Машина времени', 'Поворот'],\n",
        "    ['Cartown', 'Менталитет'],\n",
        "]\n",
        "entries = ['artist', 'track']\n",
        "playlist = pd.DataFrame(data = music, columns=entries)\n",
        "print(playlist)"
      ],
      "metadata": {
        "colab": {
          "base_uri": "https://localhost:8080/"
        },
        "id": "MELMzQafSbNU",
        "outputId": "0873900e-5b4d-4544-8406-861f930602df"
      },
      "execution_count": 3,
      "outputs": [
        {
          "output_type": "stream",
          "name": "stdout",
          "text": [
            "           artist          track\n",
            "0          Miyagi           Река\n",
            "1        TumaniYo       Наполняй\n",
            "2             КиШ  Кукла Колдуна\n",
            "3  Машина времени        Поворот\n",
            "4         Cartown     Менталитет\n"
          ]
        }
      ]
    }
  ],
  "metadata": {
    "colab": {
      "provenance": [],
      "include_colab_link": true
    },
    "kernelspec": {
      "display_name": "Python 3 (ipykernel)",
      "language": "python",
      "name": "python3"
    },
    "language_info": {
      "codemirror_mode": {
        "name": "ipython",
        "version": 3
      },
      "file_extension": ".py",
      "mimetype": "text/x-python",
      "name": "python",
      "nbconvert_exporter": "python",
      "pygments_lexer": "ipython3",
      "version": "3.9.0"
    }
  },
  "nbformat": 4,
  "nbformat_minor": 0
}